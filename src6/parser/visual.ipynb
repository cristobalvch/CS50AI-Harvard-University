{
 "metadata": {
  "language_info": {
   "codemirror_mode": {
    "name": "ipython",
    "version": 3
   },
   "file_extension": ".py",
   "mimetype": "text/x-python",
   "name": "python",
   "nbconvert_exporter": "python",
   "pygments_lexer": "ipython3",
   "version": "3.8.5-final"
  },
  "orig_nbformat": 2,
  "kernelspec": {
   "name": "Python 3.8.5 64-bit",
   "display_name": "Python 3.8.5 64-bit",
   "metadata": {
    "interpreter": {
     "hash": "265f6c375f5723599e793514545a17c1828385c656a37de44dc67ad3be04634e"
    }
   }
  }
 },
 "nbformat": 4,
 "nbformat_minor": 2,
 "cells": [
  {
   "cell_type": "code",
   "execution_count": 179,
   "metadata": {},
   "outputs": [],
   "source": [
    "import nltk\n",
    "import re\n",
    "import os"
   ]
  },
  {
   "cell_type": "code",
   "execution_count": 143,
   "metadata": {},
   "outputs": [],
   "source": [
    "def preprocess(string):\n",
    "    string = string.lower()\n",
    "    sentence = re.sub(r\"\\d|[^\\s\\w]\",\"\", string)\n",
    "    tokens = nltk.tokenize.word_tokenize(sentence)\n",
    "    return tokens\n"
   ]
  },
  {
   "cell_type": "code",
   "execution_count": 174,
   "metadata": {},
   "outputs": [],
   "source": [
    "TERMINALS = \"\"\"\n",
    "Adj -> \"country\" | \"dreadful\" | \"enigmatical\" | \"little\" | \"moist\" | \"red\"\n",
    "Adv -> \"down\" | \"here\" | \"never\"\n",
    "Conj -> \"and\" | \"until\"\n",
    "Det -> \"a\" | \"an\" | \"his\" | \"my\" | \"the\" \n",
    "N -> \"armchair\" | \"companion\" | \"day\" | \"door\" | \"hand\" | \"he\" | \"himself\"\n",
    "N -> \"holmes\" | \"home\" | \"i\" | \"mess\" | \"paint\" | \"palm\" | \"pipe\" | \"she\"\n",
    "N -> \"smile\" | \"thursday\" | \"walk\" | \"we\" | \"word\"\n",
    "P -> \"at\" | \"before\" | \"in\" | \"of\" | \"on\" | \"to\"\n",
    "V -> \"arrived\" | \"came\" | \"chuckled\" | \"had\" | \"lit\" | \"said\" | \"sat\"\n",
    "V -> \"smiled\" | \"tell\" | \"were\"\n",
    "\"\"\"\n",
    "\n",
    "NONTERMINALS = \"\"\"\n",
    "S ->  NP VP | S Conj S  | S Conj VP\n",
    "\n",
    "AP -> Adj | Adj AP\n",
    "PP -> P NP | P \n",
    "\n",
    "NP -> N | Det NP | AP NP | PP NP\n",
    "VP -> V | V NP | VP PP | Adv VP | VP Adv\n",
    "\n",
    "\"\"\"\n",
    "\n",
    "grammar = nltk.CFG.fromstring(NONTERMINALS + TERMINALS)\n",
    "parser = nltk.ChartParser(grammar)"
   ]
  },
  {
   "cell_type": "code",
   "execution_count": 161,
   "metadata": {},
   "outputs": [
    {
     "output_type": "execute_result",
     "data": {
      "text/plain": [
       "'N     V   P  Det Adj  N     Conj  N   V'"
      ]
     },
     "metadata": {},
     "execution_count": 161
    }
   ],
   "source": [
    "\"\"\"\"\n",
    "Holmes sat. \n",
    "  N     V\n",
    "Holmes lit a pipe.\n",
    "  N    V  Det  N\n",
    "We arrived the day before Thursday.\n",
    " N    V    Det  N    P       N\n",
    "Holmes sat in the red armchair and he chuckled.\n",
    " N      V  P  Det Adj   N      Conj N   V\n",
    "My companion smiled an enigmatical smile. \n",
    "Det  N        V     Det   Adj        N\n",
    "Holmes chuckled to himself.\n",
    " N        V      P    N \n",
    " She never said a word until we were at the door here.\n",
    "  N   Adv   V  Det  N   Conj  N   V   P Det  N    Adv\n",
    "Holmes sat down and lit his pipe.\n",
    "  N     V  Adv  Conj V  Det  N   \n",
    "I had a country walk on Thursday and came home in a dreadful mess.\n",
    "N  V  Det Adj    N    P   N     Conj   V   N   P Det  Adj      N \n",
    "I had a little moist red paint in the palm of my hand.\n",
    "N  V  Det Adj  Adj   Adj  N    P  Det  N   P  Det  N \n",
    "  \n",
    "\"\"\"\"\n",
    "\n"
   ]
  },
  {
   "cell_type": "code",
   "execution_count": 201,
   "metadata": {},
   "outputs": [
    {
     "output_type": "stream",
     "name": "stdout",
     "text": [
      "        S     \n   _____|___   \n  NP        VP\n  |         |  \n  N         V \n  |         |  \nholmes     sat\n\n              S                                                         \n  ____________|____________________                                      \n |                                 VP                                   \n |                             ____|_________________________            \n |                            VP                             |          \n |             _______________|_____________                 |           \n |            VP                            |                |          \n |    ________|______                       |                |           \n |   |               NP                     |                |          \n |   |    ___________|____                  |                |           \n |   |   |                NP                |                |          \n |   |   |            ____|________         |                |           \n |   |   |           AP            |        PP               PP         \n |   |   |     ______|____         |     ___|___          ___|___        \n |   |   |    |           AP       |    |       NP       |       NP     \n |   |   |    |       ____|___     |    |    ___|___     |    ___|___    \n NP  |   |    |      |        AP   NP   |   |       NP   |   |       NP \n |   |   |    |      |        |    |    |   |       |    |   |       |   \n N   V  Det  Adj    Adj      Adj   N    P  Det      N    P  Det      N  \n |   |   |    |      |        |    |    |   |       |    |   |       |   \n i  had  a  little moist     red paint  in the     palm  of  my     hand\n\n              S                                                         \n  ____________|____________________                                      \n |                                 VP                                   \n |                             ____|_________________________            \n |                            VP                             |          \n |             _______________|_____________                 |           \n |            VP                            |                |          \n |    ________|______                       |                |           \n |   |               NP                     |                |          \n |   |    ___________|____                  |                |           \n |   |   |                NP                |                |          \n |   |   |     ___________|___              |                |           \n |   |   |    |               NP            PP               PP         \n |   |   |    |            ___|____      ___|___          ___|___        \n |   |   |    |           AP       |    |       NP       |       NP     \n |   |   |    |       ____|___     |    |    ___|___     |    ___|___    \n NP  |   |    AP     |        AP   NP   |   |       NP   |   |       NP \n |   |   |    |      |        |    |    |   |       |    |   |       |   \n N   V  Det  Adj    Adj      Adj   N    P  Det      N    P  Det      N  \n |   |   |    |      |        |    |    |   |       |    |   |       |   \n i  had  a  little moist     red paint  in the     palm  of  my     hand\n\n              S                                                             \n  ____________|________________________                                      \n |                                     VP                                   \n |                             ________|_________________________            \n |                            VP                                 |          \n |             _______________|_________________                 |           \n |            VP                                |                |          \n |    ________|______                           |                |           \n |   |               NP                         |                |          \n |   |    ___________|____                      |                |           \n |   |   |                NP                    |                |          \n |   |   |     ___________|___                  |                |           \n |   |   |    |               NP                PP               PP         \n |   |   |    |       ________|___           ___|___          ___|___        \n |   |   |    |      |            NP        |       NP       |       NP     \n |   |   |    |      |         ___|____     |    ___|___     |    ___|___    \n NP  |   |    AP     AP       AP       NP   |   |       NP   |   |       NP \n |   |   |    |      |        |        |    |   |       |    |   |       |   \n N   V  Det  Adj    Adj      Adj       N    P  Det      N    P  Det      N  \n |   |   |    |      |        |        |    |   |       |    |   |       |   \n i  had  a  little moist     red     paint  in the     palm  of  my     hand\n\n              S                                                                 \n  ____________|____________________________                                      \n |                                         VP                                   \n |                                 ________|_________________________            \n |                                VP                                 |          \n |             ___________________|_________________                 |           \n |            VP                                    |                |          \n |    ________|__________                           |                |           \n |   |                   NP                         |                |          \n |   |    _______________|____                      |                |           \n |   |   |                    NP                    PP               PP         \n |   |   |           _________|_______           ___|___          ___|___        \n |   |   |          AP                NP        |       NP       |       NP     \n |   |   |     _____|____          ___|____     |    ___|___     |    ___|___    \n NP  |   |    |          AP       AP       NP   |   |       NP   |   |       NP \n |   |   |    |          |        |        |    |   |       |    |   |       |   \n N   V  Det  Adj        Adj      Adj       N    P  Det      N    P  Det      N  \n |   |   |    |          |        |        |    |   |       |    |   |       |   \n i  had  a  little     moist     red     paint  in the     palm  of  my     hand\n\n            S              \n   _________|___            \n  |             VP         \n  |      _______|___        \n  |     |           NP     \n  |     |        ___|___    \n  NP    |       |       NP \n  |     |       |       |   \n  N     V      Det      N  \n  |     |       |       |   \nholmes lit      a      pipe\n\n             S                             \n  ___________|_______                       \n |                   VP                    \n |            _______|__________            \n |           VP                 |          \n |      _____|___               |           \n |     |         NP             PP         \n |     |      ___|___      _____|_____      \n NP    |     |       NP   |           NP   \n |     |     |       |    |           |     \n N     V    Det      N    P           N    \n |     |     |       |    |           |     \n we arrived the     day before     thursday\n\n                        S                                    \n             ___________|_________________________            \n            S                            |        |          \n   _________|___                         |        |           \n  |             VP                       |        |          \n  |      _______|___                     |        |           \n  |     |           NP                   |        |          \n  |     |    _______|___                 |        |           \n  |     |   |           NP               |        |          \n  |     |   |    _______|___             |        |           \n  |     |   |   |           NP           |        S          \n  |     |   |   |        ___|_____       |     ___|_____      \n  NP    |   PP  |       AP        NP     |    NP        VP   \n  |     |   |   |       |         |      |    |         |     \n  N     V   P  Det     Adj        N     Conj  N         V    \n  |     |   |   |       |         |      |    |         |     \nholmes sat  in the     red     armchair and   he     chuckled\n\n                        S                                    \n             ___________|_________________________            \n            S                            |        |          \n   _________|___                         |        |           \n  |             VP                       |        |          \n  |      _______|___                     |        |           \n  |     |           PP                   |        |          \n  |     |    _______|___                 |        |           \n  |     |   |           NP               |        |          \n  |     |   |    _______|___             |        |           \n  |     |   |   |           NP           |        S          \n  |     |   |   |        ___|_____       |     ___|_____      \n  NP    VP  |   |       AP        NP     |    NP        VP   \n  |     |   |   |       |         |      |    |         |     \n  N     V   P  Det     Adj        N     Conj  N         V    \n  |     |   |   |       |         |      |    |         |     \nholmes sat  in the     red     armchair and   he     chuckled\n\n                    S                                 \n      ______________|_________                         \n     |                        VP                      \n     |               _________|_______                 \n     |              |                 NP              \n     |              |      ___________|_______         \n     NP             |     |                   NP      \n  ___|______        |     |            _______|____    \n |          NP      |     |           AP           NP \n |          |       |     |           |            |   \nDet         N       V    Det         Adj           N  \n |          |       |     |           |            |   \n my     companion smiled  an     enigmatical     smile\n\n                 S                 \n   ______________|___               \n  |                  VP            \n  |        __________|___           \n  |       |              NP        \n  |       |           ___|_____     \n  NP      |          PP        NP  \n  |       |          |         |    \n  N       V          P         N   \n  |       |          |         |    \nholmes chuckled      to     himself\n\n                 S                 \n   ______________|___               \n  |                  VP            \n  |        __________|___           \n  |       |              PP        \n  |       |           ___|_____     \n  NP      VP         |         NP  \n  |       |          |         |    \n  N       V          P         N   \n  |       |          |         |    \nholmes chuckled      to     himself\n\n                                  S                                     \n            ______________________|_____________                         \n           |                      |             S                       \n           |                      |     ________|_______                 \n           S                      |    |                VP              \n  _________|____                  |    |             ___|____________    \n |              VP                |    |            VP               |  \n |     _________|___              |    |    ________|___             |   \n |    |             VP            |    |   |            NP           |  \n |    |     ________|___          |    |   |     _______|___         |   \n |    |    |            NP        |    |   |    |           NP       |  \n |    |    |         ___|___      |    |   |    |        ___|___     |   \n NP   |    |        |       NP    |    NP  |    PP      |       NP   |  \n |    |    |        |       |     |    |   |    |       |       |    |   \n N   Adv   V       Det      N    Conj  N   V    P      Det      N   Adv \n |    |    |        |       |     |    |   |    |       |       |    |   \nshe never said      a      word until  we were  at     the     door here\n\n                                  S                                     \n            ______________________|_____________                         \n           |                      |             S                       \n           |                      |     ________|_______                 \n           S                      |    |                VP              \n  _________|____                  |    |             ___|____________    \n |              VP                |    |            VP               |  \n |     _________|___              |    |    ________|___             |   \n |    |             VP            |    |   |            PP           |  \n |    |     ________|___          |    |   |     _______|___         |   \n |    |    |            NP        |    |   |    |           NP       |  \n |    |    |         ___|___      |    |   |    |        ___|___     |   \n NP   |    |        |       NP    |    NP  VP   |       |       NP   |  \n |    |    |        |       |     |    |   |    |       |       |    |   \n N   Adv   V       Det      N    Conj  N   V    P      Det      N   Adv \n |    |    |        |       |     |    |   |    |       |       |    |   \nshe never said      a      word until  we were  at     the     door here\n\n                     S                   \n         ____________|________            \n        S            |        VP         \n   _____|___         |     ___|___        \n  |         VP       |    |       NP     \n  |      ___|___     |    |    ___|___    \n  NP    VP      |    |    |   |       NP \n  |     |       |    |    |   |       |   \n  N     V      Adv  Conj  V  Det      N  \n  |     |       |    |    |   |       |   \nholmes sat     down and  lit his     pipe\n\n                                            S                                                     \n      ______________________________________|_________________________                             \n     S                                             |                  |                           \n  ___|_____________                                |                  |                            \n |                 VP                              |                  VP                          \n |            _____|__________________             |          ________|_______                     \n |           VP                       |            |         |                PP                  \n |    _______|_____                   |            |         |         _______|_____               \n |   |             NP                 |            |         |        |             NP            \n |   |    _________|_____             |            |         |        |    _________|______        \n |   |   |               NP           PP           |         VP       |   |                NP     \n |   |   |          _____|___      ___|_____       |     ____|___     |   |          ______|___    \n NP  |   |         AP        NP   |         NP     |    |        NP   |   |         AP         NP \n |   |   |         |         |    |         |      |    |        |    |   |         |          |   \n N   V  Det       Adj        N    P         N     Conj  V        N    P  Det       Adj         N  \n |   |   |         |         |    |         |      |    |        |    |   |         |          |   \n i  had  a      country     walk  on     thursday and  came     home  in  a      dreadful     mess\n\n"
     ]
    }
   ],
   "source": [
    "filename = os.listdir('sentences')\n",
    "for file in filename:\n",
    "    filepath = \"sentences/\" + file\n",
    "    with open(filepath) as f:\n",
    "        sentence = f.read()\n",
    "    s = preprocess(sentence)\n",
    "    try:        \n",
    "        trees = list(parser.parse(s))\n",
    "        for tree in trees:\n",
    "            tree.pretty_print()\n",
    "\n",
    "    \n",
    "    except ValueError as e:\n",
    "        print(e)\n",
    "    if not trees:\n",
    "        print(\"Could not parse sentence.\")\n",
    "\n"
   ]
  },
  {
   "cell_type": "code",
   "execution_count": 213,
   "metadata": {},
   "outputs": [
    {
     "output_type": "stream",
     "name": "stdout",
     "text": [
      "(S\n  (S\n    (NP (N i))\n    (VP\n      (VP (V had) (NP (Det a) (NP (AP (Adj country)) (NP (N walk)))))\n      (PP (P on) (NP (N thursday)))))\n  (Conj and)\n  (VP\n    (VP (V came) (NP (N home)))\n    (PP (P in) (NP (Det a) (NP (AP (Adj dreadful)) (NP (N mess)))))))\n(S\n  (NP (N i))\n  (VP\n    (VP (V had) (NP (Det a) (NP (AP (Adj country)) (NP (N walk)))))\n    (PP (P on) (NP (N thursday)))))\n(NP (N i))\n(N i)\n(VP\n  (VP (V had) (NP (Det a) (NP (AP (Adj country)) (NP (N walk)))))\n  (PP (P on) (NP (N thursday))))\n(VP (V had) (NP (Det a) (NP (AP (Adj country)) (NP (N walk)))))\n(V had)\n(NP (Det a) (NP (AP (Adj country)) (NP (N walk))))\n(Det a)\n(NP (AP (Adj country)) (NP (N walk)))\n(AP (Adj country))\n(Adj country)\n(NP (N walk))\n(N walk)\n(PP (P on) (NP (N thursday)))\n(P on)\n(NP (N thursday))\n(N thursday)\n(Conj and)\n(VP\n  (VP (V came) (NP (N home)))\n  (PP (P in) (NP (Det a) (NP (AP (Adj dreadful)) (NP (N mess))))))\n(VP (V came) (NP (N home)))\n(V came)\n(NP (N home))\n(N home)\n(PP (P in) (NP (Det a) (NP (AP (Adj dreadful)) (NP (N mess)))))\n(P in)\n(NP (Det a) (NP (AP (Adj dreadful)) (NP (N mess))))\n(Det a)\n(NP (AP (Adj dreadful)) (NP (N mess)))\n(AP (Adj dreadful))\n(Adj dreadful)\n(NP (N mess))\n(N mess)\n"
     ]
    }
   ],
   "source": [
    "for t in trees:\n",
    "    for s in t.subtrees():\n",
    "        print(s)"
   ]
  },
  {
   "cell_type": "code",
   "execution_count": null,
   "metadata": {},
   "outputs": [],
   "source": []
  }
 ]
}